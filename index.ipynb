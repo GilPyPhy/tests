{
 "cells": [
  {
   "cell_type": "markdown",
   "metadata": {},
   "source": [
    "<h1><div style=\"color:Sienna;font-family:serif;font-size:larger;text-align:center;border:solid,2px;padding:2%;\">Modèle</div></h1>\n",
    "\n",
    "<div style=\"color:blue;font-family:serif;padding-left:100px\">\n",
    "    <a href=\"#T1\">Titre 1</a><br>\n",
    "</div>"
   ]
  },
  {
   "cell_type": "markdown",
   "metadata": {},
   "source": [
    "[ipyvolume_demo.ipynb](ipyvolume_demo.ipynb) "
   ]
  },
  {
   "cell_type": "markdown",
   "metadata": {},
   "source": [
    "# <div id=\"T1\" style=\"color:blue;font-family:serif;border:solid,1px;padding:1%;\">Titre</div>"
   ]
  },
  {
   "cell_type": "markdown",
   "metadata": {
    "solution": "hidden",
    "solution_first": true
   },
   "source": [
    "intro exo"
   ]
  },
  {
   "cell_type": "markdown",
   "metadata": {
    "solution": "hidden"
   },
   "source": [
    "jkknk"
   ]
  },
  {
   "cell_type": "markdown",
   "metadata": {
    "solution2": "hidden",
    "solution2_first": true
   },
   "source": [
    "solution"
   ]
  },
  {
   "cell_type": "code",
   "execution_count": null,
   "metadata": {
    "solution": "hidden",
    "solution2": "hidden"
   },
   "outputs": [],
   "source": [
    "2*5"
   ]
  },
  {
   "cell_type": "code",
   "execution_count": null,
   "metadata": {},
   "outputs": [],
   "source": []
  },
  {
   "cell_type": "markdown",
   "metadata": {},
   "source": [
    "<span style=\"color:red;\">rouge</span> &#91; &#93;"
   ]
  },
  {
   "cell_type": "markdown",
   "metadata": {},
   "source": [
    "<img src=\"tables.png\" alt=\"tables\" style=\"width:128px;height:128px\" />"
   ]
  },
  {
   "cell_type": "markdown",
   "metadata": {},
   "source": [
    "<div style=\"border-bottom:solid,1px;\"><b>Exemple 1</b> : ouverture et lecture de toutes les lignes du fichier demo1.txt situé dans le dossier courant.</div>"
   ]
  },
  {
   "cell_type": "markdown",
   "metadata": {},
   "source": [
    "<div style=\"border-left:solid,1px;padding:1%;\">On constate que : <br>\n",
    "&nbsp;&nbsp;&nbsp;&nbsp;1/ les sauts de ligne sont présents ;<br>\n",
    "&nbsp;&nbsp;&nbsp;&nbsp;2/ la première ligne devra être ignorée lors d'un tracé de courbe ;<br>\n",
    "&nbsp;&nbsp;&nbsp;&nbsp;3/ le séparateur de colonnes est le point-virgule ;<br>\n",
    "&nbsp;&nbsp;&nbsp;&nbsp;4/ chaque ligne est en réalité une unique chaîne ;<br>\n",
    "&nbsp;&nbsp;&nbsp;&nbsp;5/ le séparateur décimal est la virgule alors que pour Python c'est le point.<br>\n",
    "\n",
    "Chacune de ces remarques fait l'objet d'un <b>traitement</b> dans le paragraphe suivant.</div>"
   ]
  },
  {
   "cell_type": "markdown",
   "metadata": {},
   "source": [
    "<div style=\"border:solid,1px;padding:1%;\"><b>Méthode 2</b><br>\n",
    "<code>with open(chemin_complet) as f: \t# Ouverture du fichier, fermeture AUTOMATIQUE\n",
    "     &#91;instructions&#93;\t                 # Cf. ci-dessous\n",
    "</code><br></div>"
   ]
  },
  {
   "cell_type": "markdown",
   "metadata": {},
   "source": [
    "&#128432; <b>e1</b><div id=\"Ex\"></div><br>"
   ]
  },
  {
   "cell_type": "markdown",
   "metadata": {},
   "source": [
    "<table style=\"width:100%\">\n",
    "  <tr>\n",
    "      <th style=\"text-align:center\"><i>A</i></th>\n",
    "      <th style=\"text-align:center\"><i>B</i></th>\n",
    "      <th style=\"text-align:center\"><i>C</i></th>\n",
    "  </tr>\n",
    "  <tr>\n",
    "      <td style=\"text-align:left\">AA</td>\n",
    "    <td style=\"text-align:left\">BB</td>\n",
    "    <td style=\"text-align:left\">CC</td>\n",
    "  </tr>\n",
    "</table> "
   ]
  },
  {
   "cell_type": "markdown",
   "metadata": {},
   "source": [
    "<a href=\"#M1\">Solution 1</a>"
   ]
  },
  {
   "cell_type": "markdown",
   "metadata": {},
   "source": [
    "<hr>\n",
    "<div style=\"color:Sienna;font-family:serif;border:solid,2px;padding:2%;\">\n",
    "    <div style=\"font-size:larger;text-align:center;\">Réponses</div><br>\n",
    "    <div style=\"color:Sienna;font-family:serif;\">Les exercices sont conçus pour être traités dans l'ordre. En conséquence, la réponse à l'exercice n+1 ne reprend pas les commandes identiques à celles de l'exercice n (seules les modifications sont fournies). Ne pas hésiter à rajouter ces commandes en cas de dysfonctionnement (probablement dû à des modifications dans les instructions précédentes).</div>\n",
    "</div>\n",
    "<hr>"
   ]
  },
  {
   "cell_type": "markdown",
   "metadata": {},
   "source": [
    "<div id=\"M1\"><b>Solution 1</b>&nbsp;&nbsp;<a href=\"#Ex\" style=\"font-size:smaller;\">Retour exercices</a></div>"
   ]
  },
  {
   "cell_type": "code",
   "execution_count": 5,
   "metadata": {},
   "outputs": [],
   "source": [
    "from tkinter import *"
   ]
  },
  {
   "cell_type": "code",
   "execution_count": 6,
   "metadata": {},
   "outputs": [],
   "source": [
    "f=Tk()\n",
    "f.mainloop()"
   ]
  },
  {
   "cell_type": "code",
   "execution_count": 3,
   "metadata": {},
   "outputs": [
    {
     "data": {
      "text/plain": [
       "'45'"
      ]
     },
     "execution_count": 3,
     "metadata": {},
     "output_type": "execute_result"
    }
   ],
   "source": [
    "a"
   ]
  },
  {
   "cell_type": "code",
   "execution_count": null,
   "metadata": {},
   "outputs": [],
   "source": [
    "a"
   ]
  }
 ],
 "metadata": {
  "kernelspec": {
   "display_name": "Python 3",
   "language": "python",
   "name": "python3"
  },
  "language_info": {
   "codemirror_mode": {
    "name": "ipython",
    "version": 3
   },
   "file_extension": ".py",
   "mimetype": "text/x-python",
   "name": "python",
   "nbconvert_exporter": "python",
   "pygments_lexer": "ipython3",
   "version": "3.7.1"
  }
 },
 "nbformat": 4,
 "nbformat_minor": 2
}
