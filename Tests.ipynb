{
 "cells": [
  {
   "cell_type": "markdown",
   "metadata": {},
   "source": [
    "<h1><div style=\"color:Sienna;font-family:serif;font-size:larger;text-align:center;border:solid,2px;padding:2%;\">Tests</div></h1>"
   ]
  },
  {
   "cell_type": "markdown",
   "metadata": {},
   "source": [
    "Ce fichier est destiné à vérifier la configuration du serveur distant, il n'a aucun intérêt sinon."
   ]
  },
  {
   "cell_type": "code",
   "execution_count": null,
   "metadata": {},
   "outputs": [],
   "source": [
    "import sqlite3 as sq\n",
    "import pprint as pp                                       # Affichage plus lisible dans le shell\n",
    "\n",
    "requete = \"SELECT nom, prénom FROM Auteurs ORDER BY nom\"  # requête SQL = chaîne\n",
    "\n",
    "connexion = sq.connect('demos/bibliotheque.sqlite')             # 1/ Connexion à la base\n",
    "curseur = connexion.cursor()                              # 2/ Variable curseur = mémoire tampon\n",
    "\n",
    "curseur.execute(requete)                                  # 3/ Exécution de la requête dans le curseur\n",
    "resultat = curseur.fetchall()                             # 4/ Variable resultat : liste de tuples \n",
    "pp.pprint(resultat)                                       # Affichage formaté avec pretty print\n",
    " \n",
    "curseur.close()                                           # 5/ Fermeture du curseur\n",
    "connexion.close()                                         # 6/ Fermeture de la connexion"
   ]
  },
  {
   "cell_type": "code",
   "execution_count": null,
   "metadata": {},
   "outputs": [],
   "source": [
    "%matplotlib inline\n",
    "from skimage import io\n",
    "import matplotlib.pyplot as plt\n",
    "\n",
    "fichier = 'demos/Wikipedia_logo.png'\n",
    "logoWiki = io.imread(fichier)\n",
    "plt.imshow(logoWiki)             # Affichage étape 1\n",
    "plt.show()                       # Affichage étape 2"
   ]
  },
  {
   "cell_type": "code",
   "execution_count": null,
   "metadata": {
    "solution": "hidden"
   },
   "outputs": [],
   "source": [
    "import PIL.Image\n",
    "import matplotlib.pyplot as plt\n",
    "import numpy as np\n",
    "\n",
    "im = PIL.Image.open('demos/Rubik_cube.png')  # Ouverture\n",
    "T = np.array(im)                       # Image → tableau numpy\n",
    "plt.imshow(T)                          # Affichage étape 1\n",
    "plt.show()                             # Affichage étape 2"
   ]
  },
  {
   "cell_type": "code",
   "execution_count": null,
   "metadata": {},
   "outputs": [],
   "source": [
    "fic = open('demos/demo1.txt','r')\n",
    "liste = fic.readlines()     # Lecture de toutes les lignes et stockage dans une liste\n",
    "fic.close()\n",
    "\n",
    "liste                       # Affichage de la liste : le résultat est perfectible…"
   ]
  },
  {
   "cell_type": "code",
   "execution_count": null,
   "metadata": {},
   "outputs": [],
   "source": [
    "import numpy as np\n",
    "import ipyvolume as ipv\n",
    "V = np.zeros((128,128,128)) # our 3d array\n",
    "# outer box\n",
    "V[30:-30,30:-30,30:-30] = 0.75\n",
    "V[35:-35,35:-35,35:-35] = 0.0\n",
    "# inner box\n",
    "V[50:-50,50:-50,50:-50] = 0.25\n",
    "V[55:-55,55:-55,55:-55] = 0.0\n",
    "ipv.quickvolshow(V, level=[0.25, 0.75], opacity=0.03, level_width=0.1, data_min=0, data_max=1)"
   ]
  },
  {
   "cell_type": "code",
   "execution_count": null,
   "metadata": {},
   "outputs": [],
   "source": [
    "%matplotlib inline\n",
    "import matplotlib.pyplot as plt\n",
    "import numpy as np\n",
    "\n",
    "def amplitude(x,t):\n",
    "    return 100*np.exp(-np.power(sigma*(vg*t-x),2))\n",
    "\n",
    "def paquet(x,t):\n",
    "    return amplitude(x,t)*np.cos(k0*(x-vp*t));\n",
    "\n",
    "vg = 20                               # Vitesse de groupe (de l'enveloppe)\n",
    "vp = 0.2*vg                           # Vitesse de phase (de la sinusoïde moyenne)\n",
    "tmin, tmax, dt = 5, 15, 0.1           # Bornes et pas temporels\n",
    "xmin, xmax, dx = -50, 300, 0.01       # Bornes et pas spatiaux\n",
    "k0, sigma = 0.2, 0.02                 # Vecteur d'onde moyen et largeur du paquet\n",
    "\n",
    "t = np.arange(tmin,tmax,dt)           # Instants du tracé\n",
    "x = np.arange(xmin,xmax,dx)           # Absisses \n",
    "plt.plot(x,paquet(x,tmin))\n",
    "plt.show()"
   ]
  },
  {
   "cell_type": "code",
   "execution_count": null,
   "metadata": {},
   "outputs": [],
   "source": [
    "import matplotlib.animation as animation\n",
    "\n",
    "fig = plt.figure()         # Initialise le graphe\n",
    "line, = plt.plot([],[])    # Initialise une courbe vide\n",
    "plt.xlim(xmin, xmax)       # Limites des abscisses du graphe\n",
    "plt.ylim(-110,110)         # Limites des ordonnées du graphe\n",
    "\n",
    "# Fonction à définir quand blit=True (appel de l'animation ci-dessous) :\n",
    "# crée l'arrière de l'animation qui sera présent sur chaque image\n",
    "def init():\n",
    "    line.set_data([],[])\n",
    "    return line,\n",
    "\n",
    "def animate(i): \n",
    "    t = i * dt\n",
    "    y = paquet(x,t)\n",
    "    line.set_data(x, y)\n",
    "    return line,\n",
    " \n",
    "ani = animation.FuncAnimation(fig, animate, init_func=init, frames=20, blit=True, interval=20, repeat=False) #100\n",
    "\n",
    "# Les deux lignes suivantes sont inutiles avec un IDE comme Pyzo ou Spyder\n",
    "from IPython.display import HTML\n",
    "HTML(ani.to_jshtml())"
   ]
  },
  {
   "cell_type": "code",
   "execution_count": null,
   "metadata": {},
   "outputs": [],
   "source": [
    "%matplotlib qt5\n",
    "from mpl_toolkits.mplot3d import Axes3D\n",
    "import numpy as np\n",
    "import matplotlib.pyplot as plt\n",
    "\n",
    "fig = plt.figure()\n",
    "ax = fig.gca(projection='3d')\n",
    "\n",
    "theta = np.linspace(-4 * np.pi, 4 * np.pi, 100)\n",
    "z = np.linspace(-2, 2, 100)\n",
    "r = z**2 + 1\n",
    "x = r * np.sin(theta)\n",
    "y = r * np.cos(theta)\n",
    "ax.plot(x, y, z)\n",
    "\n",
    "plt.show()"
   ]
  }
 ],
 "metadata": {
  "kernelspec": {
   "display_name": "Python 3",
   "language": "python",
   "name": "python3"
  },
  "language_info": {
   "codemirror_mode": {
    "name": "ipython",
    "version": 3
   },
   "file_extension": ".py",
   "mimetype": "text/x-python",
   "name": "python",
   "nbconvert_exporter": "python",
   "pygments_lexer": "ipython3",
   "version": "3.7.1"
  }
 },
 "nbformat": 4,
 "nbformat_minor": 2
}
